{
 "cells": [
  {
   "cell_type": "markdown",
   "id": "1c76f814",
   "metadata": {},
   "source": [
    "# Descriptive Analysis"
   ]
  },
  {
   "cell_type": "markdown",
   "id": "6656ef62",
   "metadata": {},
   "source": [
    "Let's load an open sources data. The iris data is very easy and popular. So, let's load that into our environment."
   ]
  },
  {
   "cell_type": "code",
   "execution_count": 3,
   "id": "d32f8513",
   "metadata": {},
   "outputs": [],
   "source": [
    "library (datasets)\n",
    "data(iris)"
   ]
  },
  {
   "cell_type": "markdown",
   "id": "910a1e20",
   "metadata": {},
   "source": [
    "We can see the summary of the data."
   ]
  },
  {
   "cell_type": "code",
   "execution_count": 4,
   "id": "2e3a05fa",
   "metadata": {},
   "outputs": [
    {
     "data": {
      "text/plain": [
       "  Sepal.Length    Sepal.Width     Petal.Length    Petal.Width   \n",
       " Min.   :4.300   Min.   :2.000   Min.   :1.000   Min.   :0.100  \n",
       " 1st Qu.:5.100   1st Qu.:2.800   1st Qu.:1.600   1st Qu.:0.300  \n",
       " Median :5.800   Median :3.000   Median :4.350   Median :1.300  \n",
       " Mean   :5.843   Mean   :3.057   Mean   :3.758   Mean   :1.199  \n",
       " 3rd Qu.:6.400   3rd Qu.:3.300   3rd Qu.:5.100   3rd Qu.:1.800  \n",
       " Max.   :7.900   Max.   :4.400   Max.   :6.900   Max.   :2.500  \n",
       "       Species  \n",
       " setosa    :50  \n",
       " versicolor:50  \n",
       " virginica :50  \n",
       "                \n",
       "                \n",
       "                "
      ]
     },
     "metadata": {},
     "output_type": "display_data"
    }
   ],
   "source": [
    "summary (iris)"
   ]
  },
  {
   "cell_type": "markdown",
   "id": "36224784",
   "metadata": {},
   "source": [
    "In R, the dataset \"iris\" is an object. \n",
    "\n",
    "By using the dollar sign \"$\", we can specify a column or variable within the iris dataset. \n",
    "\n",
    "For example, to access the \"Sepal.Length\" column from the iris dataset, we use:\n",
    "\n",
    "iris$Sepal.Length"
   ]
  },
  {
   "cell_type": "markdown",
   "id": "77345379",
   "metadata": {},
   "source": [
    "Now we can calculate the mean, medican, and sd for the continuous variable\n",
    "Let's select \"Sepal.Length\" as our continuous variable of interest."
   ]
  },
  {
   "cell_type": "code",
   "execution_count": 6,
   "id": "6b2166e1",
   "metadata": {},
   "outputs": [],
   "source": [
    "mean <- mean(iris$Sepal.Length)\n",
    "median <- median(iris$Sepal.Length) \n",
    "sd <- sd (iris$Sepal.Length)"
   ]
  },
  {
   "cell_type": "markdown",
   "id": "c11b1c1d",
   "metadata": {},
   "source": [
    "Let's print the mean, median and sd."
   ]
  },
  {
   "cell_type": "code",
   "execution_count": 7,
   "id": "b0062c73",
   "metadata": {},
   "outputs": [
    {
     "name": "stdout",
     "output_type": "stream",
     "text": [
      "[1] 5.843333\n",
      "[1] 5.8\n",
      "[1] 0.8280661\n"
     ]
    }
   ],
   "source": [
    "print (mean)\n",
    "print (median)\n",
    "print (sd)"
   ]
  },
  {
   "cell_type": "markdown",
   "id": "f2bc199e",
   "metadata": {},
   "source": [
    "We can also do other types of descriptive analysis such as variance, range, quantile, IQR, etc."
   ]
  },
  {
   "cell_type": "code",
   "execution_count": null,
   "id": "38efc66a",
   "metadata": {},
   "outputs": [],
   "source": [
    "variance <- var (iris$Sepal.Length)\n",
    "range <- range (iris$Sepal.Length)\n",
    "quantile <- quantile (iris$Sepal.Length)\n",
    "IQR <- IQR (iris$Sepal.Length)"
   ]
  },
  {
   "cell_type": "markdown",
   "id": "7712a98e",
   "metadata": {},
   "source": [
    "Let's print the variance, range, quantile and IQR."
   ]
  },
  {
   "cell_type": "code",
   "execution_count": null,
   "id": "d10aac7d",
   "metadata": {},
   "outputs": [],
   "source": [
    "print (variance)\n",
    "print (range)\n",
    "print (quantile)\n",
    "print (IQR)"
   ]
  },
  {
   "cell_type": "markdown",
   "id": "28754c0e",
   "metadata": {},
   "source": [
    "We can check the frequancy and proportion of a categorical variable.\n",
    "Let's select \"Species\" as our categorical variable of interest."
   ]
  },
  {
   "cell_type": "code",
   "execution_count": null,
   "id": "10708533",
   "metadata": {},
   "outputs": [],
   "source": [
    "frequancy <- table(iris$Species)\n",
    "proportion <- prop.table(table(iris$Species))"
   ]
  },
  {
   "cell_type": "markdown",
   "id": "3407c9b1",
   "metadata": {},
   "source": [
    "Let's print the frequancy and proportion."
   ]
  },
  {
   "cell_type": "code",
   "execution_count": null,
   "id": "a60eead8",
   "metadata": {},
   "outputs": [],
   "source": [
    "print (frequancy)\n",
    "print (proportion)"
   ]
  }
 ],
 "metadata": {
  "kernelspec": {
   "display_name": "R",
   "language": "R",
   "name": "ir"
  },
  "language_info": {
   "codemirror_mode": "r",
   "file_extension": ".r",
   "mimetype": "text/x-r-source",
   "name": "R",
   "pygments_lexer": "r",
   "version": "3.6.1"
  }
 },
 "nbformat": 4,
 "nbformat_minor": 5
}
