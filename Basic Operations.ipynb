{
 "cells": [
  {
   "cell_type": "markdown",
   "id": "93f625b3",
   "metadata": {},
   "source": [
    "# Basic Operations"
   ]
  },
  {
   "cell_type": "markdown",
   "id": "3c0f9cad",
   "metadata": {},
   "source": [
    "Assigning Values:\n",
    "Use <- or = to assign values to variables."
   ]
  },
  {
   "cell_type": "code",
   "execution_count": null,
   "id": "a1f08eb4",
   "metadata": {},
   "outputs": [],
   "source": [
    "#For example\n",
    "x <- 5\n",
    "y = 10"
   ]
  },
  {
   "cell_type": "markdown",
   "id": "55b70d1e",
   "metadata": {},
   "source": [
    "Printing Values\n",
    "Use the print() function or just type the variable name."
   ]
  },
  {
   "cell_type": "code",
   "execution_count": null,
   "id": "b50d9a96",
   "metadata": {},
   "outputs": [],
   "source": [
    "#For example\n",
    "print(x)\n",
    "y"
   ]
  },
  {
   "cell_type": "markdown",
   "id": "2bf4b5cd",
   "metadata": {},
   "source": [
    "# Arithmetic Operations"
   ]
  },
  {
   "cell_type": "markdown",
   "id": "4d21e66d",
   "metadata": {},
   "source": [
    "You can perform basic arithmetic operations using the standard operators:\n",
    "\n",
    "sum <- x + y: Adds x and y, and stores the result in sum.\n",
    "difference <- x - y: Subtracts y from x, and stores the result in difference.\n",
    "product <- x * y: Multiplies x and y, and stores the result in product.\n",
    "quotient <- x / y: Divides x by y, and stores the result in quotient."
   ]
  },
  {
   "cell_type": "code",
   "execution_count": null,
   "id": "7af552c9",
   "metadata": {},
   "outputs": [],
   "source": [
    "#For example\n",
    "sum <- x + y\n",
    "difference <- x - y\n",
    "product <- x * y\n",
    "quotient <- x / y\n",
    "print(sum)\n",
    "print(difference)\n",
    "print(product)\n",
    "print(quotient)"
   ]
  },
  {
   "cell_type": "markdown",
   "id": "871660a1",
   "metadata": {},
   "source": [
    "# Logical Operations"
   ]
  },
  {
   "cell_type": "markdown",
   "id": "ed5618d2",
   "metadata": {},
   "source": [
    "Logical operations compare values and return TRUE or FALSE.\n",
    "\n",
    "result <- x > y: Checks if x is greater than y. If it is, result will be TRUE; otherwise, it will be FALSE.\n",
    "print(result): Prints the logical result."
   ]
  },
  {
   "cell_type": "code",
   "execution_count": null,
   "id": "dd3bfa77",
   "metadata": {},
   "outputs": [],
   "source": [
    "#For example\n",
    "result <- x > y\n",
    "print(result)"
   ]
  },
  {
   "cell_type": "markdown",
   "id": "8ef962e0",
   "metadata": {},
   "source": [
    "# Control Structures: if-else Statements "
   ]
  },
  {
   "cell_type": "markdown",
   "id": "6d87fa2a",
   "metadata": {},
   "source": [
    "Control structures like if-else allow you to make decisions based on conditions."
   ]
  },
  {
   "cell_type": "code",
   "execution_count": null,
   "id": "01761042",
   "metadata": {},
   "outputs": [],
   "source": [
    "#For example\n",
    "\n",
    "if (x > y) {\n",
    "  print(\"x is greater than y\")\n",
    "} else {\n",
    "  print(\"x is not greater than y\")\n",
    "}"
   ]
  },
  {
   "cell_type": "markdown",
   "id": "bf5faf01",
   "metadata": {},
   "source": [
    "# For Loops"
   ]
  },
  {
   "cell_type": "markdown",
   "id": "a936df53",
   "metadata": {},
   "source": [
    "for loops allow you to repeat actions a specific number of times."
   ]
  },
  {
   "cell_type": "code",
   "execution_count": null,
   "id": "d0d7e665",
   "metadata": {},
   "outputs": [],
   "source": [
    "#For example\n",
    "\n",
    "for (i in 1:5) {\n",
    "  print(i)\n",
    "}"
   ]
  },
  {
   "cell_type": "markdown",
   "id": "4f5d41ea",
   "metadata": {},
   "source": [
    "# While Loops"
   ]
  },
  {
   "cell_type": "markdown",
   "id": "12909a4b",
   "metadata": {},
   "source": [
    "while loops continue to execute as long as a condition is TRUE."
   ]
  },
  {
   "cell_type": "code",
   "execution_count": null,
   "id": "b29a99ce",
   "metadata": {},
   "outputs": [],
   "source": [
    "#For example\n",
    "\n",
    "count <- 1\n",
    "while (count <= 5) {\n",
    "  print(count)\n",
    "  count <- count + 1\n",
    "}"
   ]
  },
  {
   "cell_type": "markdown",
   "id": "acd78e57",
   "metadata": {},
   "source": [
    "# Functions"
   ]
  },
  {
   "cell_type": "markdown",
   "id": "4d91c445",
   "metadata": {},
   "source": [
    "Functions allow you to define reusable blocks of code."
   ]
  },
  {
   "cell_type": "code",
   "execution_count": null,
   "id": "6a9829e4",
   "metadata": {},
   "outputs": [],
   "source": [
    "#Defining Functions\n",
    "\n",
    "my_function <- function(a, b) {\n",
    "  return(a + b)\n",
    "}\n",
    "\n",
    "result <- my_function(5, 3)\n",
    "print(result)"
   ]
  }
 ],
 "metadata": {
  "kernelspec": {
   "display_name": "R",
   "language": "R",
   "name": "ir"
  },
  "language_info": {
   "codemirror_mode": "r",
   "file_extension": ".r",
   "mimetype": "text/x-r-source",
   "name": "R",
   "pygments_lexer": "r",
   "version": "3.6.1"
  }
 },
 "nbformat": 4,
 "nbformat_minor": 5
}
