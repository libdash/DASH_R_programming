{
 "cells": [
  {
   "cell_type": "markdown",
   "id": "8968eecc",
   "metadata": {},
   "source": [
    "# Data Structures"
   ]
  },
  {
   "cell_type": "markdown",
   "id": "f950332e",
   "metadata": {},
   "source": [
    "Now that you're familiar with the basic data types in R, let's explore some of the main structures used for storing these data."
   ]
  },
  {
   "cell_type": "markdown",
   "id": "df21d781",
   "metadata": {},
   "source": [
    "# Vectors"
   ]
  },
  {
   "cell_type": "markdown",
   "id": "bdf1fb05",
   "metadata": {},
   "source": [
    "The simplest data structure in R is the vector. Vectors can contain elements such as numbers, characters, factors, or logical values, but all elements within a vector must be of the same type. A vector with a single value (length 1) is known as a scalar. It's important to note that while vectors cannot mix data types, they can include `NA` values, which represent missing data."
   ]
  },
  {
   "cell_type": "code",
   "execution_count": 2,
   "id": "531e7f45",
   "metadata": {},
   "outputs": [],
   "source": [
    "# For example\n",
    "numbers <- c(1, 2, 3, 4, 5)  # Numeric vector\n",
    "words <- c(\"apple\", \"banana\", \"cherry\")  # Character vector"
   ]
  },
  {
   "cell_type": "markdown",
   "id": "7726dfa6",
   "metadata": {},
   "source": [
    "# Matrices and Arrays"
   ]
  },
  {
   "cell_type": "markdown",
   "id": "82d0fcd2",
   "metadata": {},
   "source": [
    "Matrices are another common data structure in R, particularly useful in fields like statistics and ecology. A matrix is essentially a vector with added dimensions, forming a two-dimensional table. Arrays extend this concept to more than two dimensions. Like vectors, all elements within a matrix or array must be of the same data type.\n",
    "\n",
    "Matrices and arrays can be easily created using the `matrix()` and `array()` functions, respectively. You can also assign row and column names to matrices, which can help organize and interpret the data."
   ]
  },
  {
   "cell_type": "code",
   "execution_count": 3,
   "id": "a9eeb231",
   "metadata": {},
   "outputs": [
    {
     "name": "stdout",
     "output_type": "stream",
     "text": [
      "     [,1] [,2] [,3]\n",
      "[1,]    1    3    5\n",
      "[2,]    2    4    6\n"
     ]
    }
   ],
   "source": [
    "# For example\n",
    "matrix_data <- matrix(c(1, 2, 3, 4, 5, 6), nrow = 2, ncol = 3)\n",
    "print(matrix_data)"
   ]
  },
  {
   "cell_type": "markdown",
   "id": "5168ca98",
   "metadata": {},
   "source": [
    "# Lists"
   ]
  },
  {
   "cell_type": "markdown",
   "id": "77c3d43b",
   "metadata": {},
   "source": [
    "Lists are a flexible data structure that can store a mixture of different data types. Unlike vectors and matrices, lists can contain elements of different classes, including other lists or data structures. This makes lists ideal for storing irregular or complex data.\n",
    "\n",
    "You can create a list using the `list()` function and name the elements within the list for easier reference."
   ]
  },
  {
   "cell_type": "code",
   "execution_count": 4,
   "id": "b95adb26",
   "metadata": {},
   "outputs": [
    {
     "name": "stdout",
     "output_type": "stream",
     "text": [
      "$name\n",
      "[1] \"John\"\n",
      "\n",
      "$age\n",
      "[1] 30\n",
      "\n",
      "$married\n",
      "[1] TRUE\n",
      "\n"
     ]
    }
   ],
   "source": [
    "# For example\n",
    "\n",
    "my_list <- list(name = \"John\", age = 30, married = TRUE)\n",
    "print(my_list)"
   ]
  },
  {
   "cell_type": "markdown",
   "id": "3c274401",
   "metadata": {},
   "source": [
    "# Data Frames"
   ]
  },
  {
   "cell_type": "markdown",
   "id": "5574695a",
   "metadata": {},
   "source": [
    "Data frames are perhaps the most commonly used data structure in R. They are two-dimensional tables that resemble matrices but can contain different types of data in each column. Typically, each row in a data frame represents an observation, and each column represents a variable.\n",
    "\n",
    "Data frames are especially useful for organizing and analyzing data, and they are similar in structure to spreadsheets used in applications like Excel. You can create a data frame using the `data.frame()` function, and it's important to ensure that all columns have the same number of observations. Missing data should be represented as `NA`."
   ]
  },
  {
   "cell_type": "code",
   "execution_count": 6,
   "id": "eb94bb26",
   "metadata": {},
   "outputs": [
    {
     "name": "stdout",
     "output_type": "stream",
     "text": [
      "  id name age\n",
      "1  1 John  28\n",
      "2  2 Jane  24\n",
      "3  3  Doe  35\n"
     ]
    }
   ],
   "source": [
    "# For example\n",
    "df <- data.frame(\n",
    "  id = c(1, 2, 3),\n",
    "  name = c(\"John\", \"Jane\", \"Doe\"),\n",
    "  age = c(28, 24, 35)\n",
    ")\n",
    "print(df)"
   ]
  }
 ],
 "metadata": {
  "kernelspec": {
   "display_name": "R",
   "language": "R",
   "name": "ir"
  },
  "language_info": {
   "codemirror_mode": "r",
   "file_extension": ".r",
   "mimetype": "text/x-r-source",
   "name": "R",
   "pygments_lexer": "r",
   "version": "3.6.1"
  }
 },
 "nbformat": 4,
 "nbformat_minor": 5
}
