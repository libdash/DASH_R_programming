{
 "cells": [
  {
   "cell_type": "markdown",
   "id": "52afb02b",
   "metadata": {},
   "source": [
    "# Introduction to R"
   ]
  },
  {
   "cell_type": "markdown",
   "id": "397b6e36",
   "metadata": {},
   "source": [
    "R is a programming language and environment specifically designed for statistical analysis and graphics. It is widely used among researchers, statisticians and data miners for data analysis and developing statistical software.\n",
    "\n",
    "To start using R, the first step is to install it. R is available for free on Windows, Mac, and Linux operating systems, and you can download it from the Comprehensive R Archive Network (CRAN) website. For Windows and Mac users, it's recommended to download and install the pre-compiled binary versions.\n",
    "\n",
    "For detailed instructions on downloading and installing R and RStudio, you can watch this step-by-step video guide."
   ]
  },
  {
   "cell_type": "markdown",
   "id": "28fa8509",
   "metadata": {},
   "source": [
    "# Installing R and RStudio"
   ]
  },
  {
   "cell_type": "markdown",
   "id": "e7136208",
   "metadata": {},
   "source": [
    "For Windows Users\n",
    "To install R on Windows:\n",
    "1. Go to the CRAN website and select the ‘Download R for Windows’ link.\n",
    "2. Click on the ‘base’ link.\n",
    "3. Download the file by clicking on the ‘Download R 4.3.3 for Windows’ link.\n",
    "\n",
    "Once the download is complete, double-click the `.exe` installation file and follow the on-screen instructions. Detailed installation instructions are available on the CRAN website.\n",
    "\n",
    "For Mac Users\n",
    "To install R on a Mac:\n",
    "1. Go to the CRAN website and select the ‘Download R for (Mac) OS X’ link.\n",
    "2. Download the binary by clicking on the ‘R-4.3.3.pkg’ link.\n",
    "\n",
    "After the download, double-click on the file icon and follow the on-screen instructions to complete the installation. For more details, refer to the ‘R for Mac OS X FAQ’ on the CRAN website."
   ]
  },
  {
   "cell_type": "markdown",
   "id": "f89c1658",
   "metadata": {},
   "source": [
    "# Installing and Loading Packages"
   ]
  },
  {
   "cell_type": "markdown",
   "id": "8638e00e",
   "metadata": {},
   "source": [
    "The base installation of R comes equipped with a wide range of useful packages, many of which you'll rely on daily. However, as you delve into more diverse projects and your proficiency with R grows, you may find the need to extend R’s capabilities. Fortunately, the R community has developed and shared a vast amount of useful code in the form of installable packages.\n",
    "A package in R is essentially a collection of functions, data, and help files organized in a standardized structure. You can easily download and install these packages to enhance your R environment. The most popular sources for R packages include CRAN, Bioconductor, and GitHub:\n",
    "CRAN: The Comprehensive R Archive Network (CRAN) is the official repository for user-contributed R packages, hosting over 15,000 packages.\n",
    "Bioconductor: This platform specializes in open-source software for bioinformatics and offers over 1,800 R packages.\n",
    "GitHub: A widely-used platform for hosting git repositories, GitHub is not limited to R but often hosts the cutting-edge development versions of R packages. While these versions may include the latest features, they might not be as stable as the versions available on CRAN, as they are still under development. Additionally, updates to packages from GitHub are not automatic.\n",
    "By exploring these resources, you can significantly expand the functionality of your R environment to meet your specific needs.\n",
    "\n",
    "Installing Packages: The install.packages(\"ggplot2\") command installs the ggplot2 package from CRAN (The Comprehensive R Archive Network).\n",
    "Loading Packages: The library(ggplot2) command loads the ggplot2 package into your R session so you can use its functions."
   ]
  },
  {
   "cell_type": "markdown",
   "id": "5aebd8e1",
   "metadata": {},
   "source": [
    "# Working Directories"
   ]
  },
  {
   "cell_type": "markdown",
   "id": "a2698a10",
   "metadata": {},
   "source": [
    "The working directory in R is the default location where R looks for files to load and where it saves any files you create. One of the advantages of using RStudio Projects is that when you open a project, RStudio automatically sets the working directory to the correct location for that project. To check the file path of your current working directory, simply glance at the bar at the top of the Console pane."
   ]
  }
 ],
 "metadata": {
  "kernelspec": {
   "display_name": "R",
   "language": "R",
   "name": "ir"
  },
  "language_info": {
   "codemirror_mode": "r",
   "file_extension": ".r",
   "mimetype": "text/x-r-source",
   "name": "R",
   "pygments_lexer": "r",
   "version": "3.6.1"
  }
 },
 "nbformat": 4,
 "nbformat_minor": 5
}
