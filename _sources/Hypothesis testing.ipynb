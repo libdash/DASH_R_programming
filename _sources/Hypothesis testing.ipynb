{
 "cells": [
  {
   "cell_type": "markdown",
   "id": "19f8498c",
   "metadata": {},
   "source": [
    "# Hypothesis testing"
   ]
  },
  {
   "cell_type": "markdown",
   "id": "1ed50e5c",
   "metadata": {},
   "source": [
    "# Let's do the t-test.\n",
    "\n",
    "For t-test, we need one contanious variable and one categorical variable with two categories."
   ]
  },
  {
   "cell_type": "code",
   "execution_count": 1,
   "id": "61e8b2c6",
   "metadata": {},
   "outputs": [
    {
     "data": {
      "text/plain": [
       "\n",
       "\tWelch Two Sample t-test\n",
       "\n",
       "data:  Sepal.Length by Species\n",
       "t = -10.521, df = 86.538, p-value < 2.2e-16\n",
       "alternative hypothesis: true difference in means is not equal to 0\n",
       "95 percent confidence interval:\n",
       " -1.1057074 -0.7542926\n",
       "sample estimates:\n",
       "    mean in group setosa mean in group versicolor \n",
       "                   5.006                    5.936 \n"
      ]
     },
     "metadata": {},
     "output_type": "display_data"
    }
   ],
   "source": [
    "# Lets exclude data for the virginica species, and make a new data set with the species of two (setosa and versicolor)\n",
    "filtered_data <- subset(iris, Species %in% c(\"setosa\", \"versicolor\"))\n",
    "\n",
    "# Perform a t-test\n",
    "t.test(Sepal.Length ~ Species, data = filtered_data) #null: the sepal length are equal (mean) between setosa and versicolor"
   ]
  },
  {
   "cell_type": "markdown",
   "id": "40f232ca",
   "metadata": {},
   "source": [
    "# Let's do the anova test."
   ]
  },
  {
   "cell_type": "code",
   "execution_count": 7,
   "id": "efc09fd8",
   "metadata": {},
   "outputs": [
    {
     "data": {
      "text/plain": [
       "             Df Sum Sq Mean Sq F value Pr(>F)    \n",
       "Species       2  63.21  31.606   119.3 <2e-16 ***\n",
       "Residuals   147  38.96   0.265                   \n",
       "---\n",
       "Signif. codes:  0 '***' 0.001 '**' 0.01 '*' 0.05 '.' 0.1 ' ' 1"
      ]
     },
     "metadata": {},
     "output_type": "display_data"
    }
   ],
   "source": [
    " anova=aov(Sepal.Length ~ Species, data=iris) #null: the sepal length are equal for all species\n",
    " summary(anova)"
   ]
  },
  {
   "cell_type": "markdown",
   "id": "5ad2525f",
   "metadata": {},
   "source": [
    "# Perform Tukey's HSD test for post hoc analysis\n",
    "\n",
    "Tukey's Honestly Significant Difference (HSD) test results, which will allow you to determine which specific groups differ significantly from each other"
   ]
  },
  {
   "cell_type": "code",
   "execution_count": 9,
   "id": "acab5b62",
   "metadata": {},
   "outputs": [
    {
     "data": {
      "text/plain": [
       "  Tukey multiple comparisons of means\n",
       "    95% family-wise confidence level\n",
       "\n",
       "Fit: aov(formula = Sepal.Length ~ Species, data = iris)\n",
       "\n",
       "$Species\n",
       "                      diff       lwr       upr p adj\n",
       "versicolor-setosa    0.930 0.6862273 1.1737727     0\n",
       "virginica-setosa     1.582 1.3382273 1.8257727     0\n",
       "virginica-versicolor 0.652 0.4082273 0.8957727     0\n"
      ]
     },
     "metadata": {},
     "output_type": "display_data"
    }
   ],
   "source": [
    "TukeyHSD(anova)"
   ]
  },
  {
   "cell_type": "markdown",
   "id": "5fb15ecc",
   "metadata": {},
   "source": [
    "In addition to Tukey's HSD test, you can perform other post hoc tests such as the Bonferroni correction"
   ]
  },
  {
   "cell_type": "code",
   "execution_count": 10,
   "id": "3b794b87",
   "metadata": {},
   "outputs": [
    {
     "data": {
      "text/plain": [
       "\n",
       "\tPairwise comparisons using t tests with pooled SD \n",
       "\n",
       "data:  iris$Sepal.Length and iris$Species \n",
       "\n",
       "           setosa  versicolor\n",
       "versicolor 2.6e-15 -         \n",
       "virginica  < 2e-16 8.3e-09   \n",
       "\n",
       "P value adjustment method: bonferroni "
      ]
     },
     "metadata": {},
     "output_type": "display_data"
    }
   ],
   "source": [
    "pairwise.t.test(iris$Sepal.Length, iris$Species, p.adjust.method = \"bonferroni\")"
   ]
  },
  {
   "cell_type": "markdown",
   "id": "b436cad8",
   "metadata": {},
   "source": [
    "# Let's do th Chi-squared test\n",
    "So, we need two categorical variables so that we can make the contingency table\n",
    "Let's break Petal.lenght and make it a categorical variable"
   ]
  },
  {
   "cell_type": "code",
   "execution_count": 12,
   "id": "f96fce23",
   "metadata": {},
   "outputs": [
    {
     "data": {
      "text/plain": [
       "            \n",
       "             (0,5] (5,Inf]\n",
       "  setosa        50       0\n",
       "  versicolor    49       1\n",
       "  virginica      9      41"
      ]
     },
     "metadata": {},
     "output_type": "display_data"
    },
    {
     "data": {
      "text/plain": [
       "\n",
       "\tPearson's Chi-squared test\n",
       "\n",
       "data:  contingency_table\n",
       "X-squared = 108.53, df = 2, p-value < 2.2e-16\n"
      ]
     },
     "metadata": {},
     "output_type": "display_data"
    }
   ],
   "source": [
    "# Create a contingency table (2 by 2)\n",
    "contingency_table <- table(iris$Species, cut(iris$Petal.Length, breaks = c(0, 5, Inf)))\n",
    "contingency_table\n",
    "\n",
    "# Perform the chi-squared test\n",
    "chisq.test(contingency_table)"
   ]
  },
  {
   "cell_type": "markdown",
   "id": "134096b4",
   "metadata": {},
   "source": [
    "# Let's do the Fisher's exact test"
   ]
  },
  {
   "cell_type": "code",
   "execution_count": 13,
   "id": "a5ef4385",
   "metadata": {},
   "outputs": [
    {
     "data": {
      "text/plain": [
       "\n",
       "\tFisher's Exact Test for Count Data\n",
       "\n",
       "data:  contingency_table\n",
       "p-value < 2.2e-16\n",
       "alternative hypothesis: two.sided\n"
      ]
     },
     "metadata": {},
     "output_type": "display_data"
    }
   ],
   "source": [
    "# The cell value <5, So, lets' perform the Fisher's exact test\n",
    "fisher.test(contingency_table)"
   ]
  }
 ],
 "metadata": {
  "kernelspec": {
   "display_name": "R",
   "language": "R",
   "name": "ir"
  },
  "language_info": {
   "codemirror_mode": "r",
   "file_extension": ".r",
   "mimetype": "text/x-r-source",
   "name": "R",
   "pygments_lexer": "r",
   "version": "3.6.1"
  }
 },
 "nbformat": 4,
 "nbformat_minor": 5
}
