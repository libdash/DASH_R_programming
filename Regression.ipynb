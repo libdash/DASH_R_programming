{
 "cells": [
  {
   "cell_type": "markdown",
   "id": "b1f16d78",
   "metadata": {},
   "source": [
    "# Linear regression\n",
    "\n",
    "Research question: What is the relationship between fertility and education?"
   ]
  },
  {
   "cell_type": "code",
   "execution_count": 7,
   "id": "0e41d6f9",
   "metadata": {},
   "outputs": [
    {
     "data": {
      "text/html": [
       "<table>\n",
       "<thead><tr><th></th><th scope=col>Fertility</th><th scope=col>Agriculture</th><th scope=col>Examination</th><th scope=col>Education</th><th scope=col>Catholic</th><th scope=col>Infant.Mortality</th></tr></thead>\n",
       "<tbody>\n",
       "\t<tr><th scope=row>Courtelary</th><td>80.2 </td><td>17.0 </td><td>15   </td><td>12   </td><td> 9.96</td><td>22.2 </td></tr>\n",
       "\t<tr><th scope=row>Delemont</th><td>83.1 </td><td>45.1 </td><td> 6   </td><td> 9   </td><td>84.84</td><td>22.2 </td></tr>\n",
       "\t<tr><th scope=row>Franches-Mnt</th><td>92.5 </td><td>39.7 </td><td> 5   </td><td> 5   </td><td>93.40</td><td>20.2 </td></tr>\n",
       "\t<tr><th scope=row>Moutier</th><td>85.8 </td><td>36.5 </td><td>12   </td><td> 7   </td><td>33.77</td><td>20.3 </td></tr>\n",
       "\t<tr><th scope=row>Neuveville</th><td>76.9 </td><td>43.5 </td><td>17   </td><td>15   </td><td> 5.16</td><td>20.6 </td></tr>\n",
       "\t<tr><th scope=row>Porrentruy</th><td>76.1 </td><td>35.3 </td><td> 9   </td><td> 7   </td><td>90.57</td><td>26.6 </td></tr>\n",
       "</tbody>\n",
       "</table>\n"
      ],
      "text/latex": [
       "\\begin{tabular}{r|llllll}\n",
       "  & Fertility & Agriculture & Examination & Education & Catholic & Infant.Mortality\\\\\n",
       "\\hline\n",
       "\tCourtelary & 80.2  & 17.0  & 15    & 12    &  9.96 & 22.2 \\\\\n",
       "\tDelemont & 83.1  & 45.1  &  6    &  9    & 84.84 & 22.2 \\\\\n",
       "\tFranches-Mnt & 92.5  & 39.7  &  5    &  5    & 93.40 & 20.2 \\\\\n",
       "\tMoutier & 85.8  & 36.5  & 12    &  7    & 33.77 & 20.3 \\\\\n",
       "\tNeuveville & 76.9  & 43.5  & 17    & 15    &  5.16 & 20.6 \\\\\n",
       "\tPorrentruy & 76.1  & 35.3  &  9    &  7    & 90.57 & 26.6 \\\\\n",
       "\\end{tabular}\n"
      ],
      "text/markdown": [
       "\n",
       "| <!--/--> | Fertility | Agriculture | Examination | Education | Catholic | Infant.Mortality |\n",
       "|---|---|---|---|---|---|---|\n",
       "| Courtelary | 80.2  | 17.0  | 15    | 12    |  9.96 | 22.2  |\n",
       "| Delemont | 83.1  | 45.1  |  6    |  9    | 84.84 | 22.2  |\n",
       "| Franches-Mnt | 92.5  | 39.7  |  5    |  5    | 93.40 | 20.2  |\n",
       "| Moutier | 85.8  | 36.5  | 12    |  7    | 33.77 | 20.3  |\n",
       "| Neuveville | 76.9  | 43.5  | 17    | 15    |  5.16 | 20.6  |\n",
       "| Porrentruy | 76.1  | 35.3  |  9    |  7    | 90.57 | 26.6  |\n",
       "\n"
      ],
      "text/plain": [
       "             Fertility Agriculture Examination Education Catholic\n",
       "Courtelary   80.2      17.0        15          12         9.96   \n",
       "Delemont     83.1      45.1         6           9        84.84   \n",
       "Franches-Mnt 92.5      39.7         5           5        93.40   \n",
       "Moutier      85.8      36.5        12           7        33.77   \n",
       "Neuveville   76.9      43.5        17          15         5.16   \n",
       "Porrentruy   76.1      35.3         9           7        90.57   \n",
       "             Infant.Mortality\n",
       "Courtelary   22.2            \n",
       "Delemont     22.2            \n",
       "Franches-Mnt 20.2            \n",
       "Moutier      20.3            \n",
       "Neuveville   20.6            \n",
       "Porrentruy   26.6            "
      ]
     },
     "metadata": {},
     "output_type": "display_data"
    }
   ],
   "source": [
    "#lets load the dataset for the linear regression model\n",
    "data (swiss)\n",
    "head(swiss)"
   ]
  },
  {
   "cell_type": "code",
   "execution_count": 9,
   "id": "2169a6ce",
   "metadata": {},
   "outputs": [
    {
     "data": {
      "image/png": "[encoded data removed]",
      "text/plain": [
       "Plot with title \"Histogram with Normal Distribution Curve\""
      ]
     },
     "metadata": {},
     "output_type": "display_data"
    }
   ],
   "source": [
    "# Create a histogram with a normal distribution curve\n",
    "hist(swiss$Fertility, probability = TRUE, col = \"lightblue\", main = \"Histogram with Normal Distribution Curve\")"
   ]
  },
  {
   "cell_type": "markdown",
   "id": "719af0e2",
   "metadata": {},
   "source": [
    "According to the plot, it may assume that the outcome is normally distributed."
   ]
  },
  {
   "cell_type": "markdown",
   "id": "12677f53",
   "metadata": {},
   "source": [
    "Now let's investigate the relationship between the fertility and the education while controlling for Examination, Catholic, Agriculture"
   ]
  },
  {
   "cell_type": "code",
   "execution_count": 14,
   "id": "33cd136b",
   "metadata": {},
   "outputs": [
    {
     "data": {
      "text/plain": [
       "\n",
       "Call:\n",
       "lm(formula = Fertility ~ Education + Examination + Catholic + \n",
       "    Agriculture, data = swiss)\n",
       "\n",
       "Residuals:\n",
       "     Min       1Q   Median       3Q      Max \n",
       "-15.7813  -6.3308   0.8113   5.7205  15.5569 \n",
       "\n",
       "Coefficients:\n",
       "            Estimate Std. Error t value Pr(>|t|)    \n",
       "(Intercept) 91.05542    6.94881  13.104  < 2e-16 ***\n",
       "Education   -0.96161    0.19455  -4.943 1.28e-05 ***\n",
       "Examination -0.26058    0.27411  -0.951  0.34722    \n",
       "Catholic     0.12442    0.03727   3.339  0.00177 ** \n",
       "Agriculture -0.22065    0.07360  -2.998  0.00455 ** \n",
       "---\n",
       "Signif. codes:  0 '***' 0.001 '**' 0.01 '*' 0.05 '.' 0.1 ' ' 1\n",
       "\n",
       "Residual standard error: 7.736 on 42 degrees of freedom\n",
       "Multiple R-squared:  0.6498,\tAdjusted R-squared:  0.6164 \n",
       "F-statistic: 19.48 on 4 and 42 DF,  p-value: 3.95e-09\n"
      ]
     },
     "metadata": {},
     "output_type": "display_data"
    }
   ],
   "source": [
    "# Fit a linear regression model\n",
    "lm_model <- lm(Fertility ~ Education + Examination + Catholic + Agriculture, data = swiss)\n",
    "\n",
    "# Summarize the model\n",
    "summary(lm_model)"
   ]
  },
  {
   "cell_type": "code",
   "execution_count": 22,
   "id": "34a90934",
   "metadata": {},
   "outputs": [
    {
     "data": {
      "image/png": "[encoded data removed]",
      "text/plain": [
       "Plot with title \"\""
      ]
     },
     "metadata": {},
     "output_type": "display_data"
    }
   ],
   "source": [
    "# Normal Q-Q Plot\n",
    "plot(lm_model, which = 2, col = \"blue\")"
   ]
  },
  {
   "cell_type": "markdown",
   "id": "ea386d7d",
   "metadata": {},
   "source": [
    "# Logistic regression"
   ]
  },
  {
   "cell_type": "code",
   "execution_count": 16,
   "id": "c1c98441",
   "metadata": {},
   "outputs": [],
   "source": [
    "# Define a binary outcome variable based on Fertility rate\n",
    "swiss$HighFertility <- ifelse(swiss$Fertility > median(swiss$Fertility), 1, 0)"
   ]
  },
  {
   "cell_type": "code",
   "execution_count": 17,
   "id": "8db745e4",
   "metadata": {},
   "outputs": [
    {
     "data": {
      "text/plain": [
       "\n",
       "Call:\n",
       "glm(formula = HighFertility ~ Education + Examination + Catholic + \n",
       "    Agriculture, family = binomial, data = swiss)\n",
       "\n",
       "Deviance Residuals: \n",
       "     Min        1Q    Median        3Q       Max  \n",
       "-2.07058  -0.37397  -0.01366   0.43406   1.60842  \n",
       "\n",
       "Coefficients:\n",
       "            Estimate Std. Error z value Pr(>|z|)   \n",
       "(Intercept) 14.02121    5.10091   2.749  0.00598 **\n",
       "Education   -0.15114    0.09363  -1.614  0.10647   \n",
       "Examination -0.43822    0.17297  -2.533  0.01129 * \n",
       "Catholic     0.02535    0.01403   1.807  0.07078 . \n",
       "Agriculture -0.12432    0.04825  -2.576  0.00998 **\n",
       "---\n",
       "Signif. codes:  0 '***' 0.001 '**' 0.01 '*' 0.05 '.' 0.1 ' ' 1\n",
       "\n",
       "(Dispersion parameter for binomial family taken to be 1)\n",
       "\n",
       "    Null deviance: 65.135  on 46  degrees of freedom\n",
       "Residual deviance: 28.952  on 42  degrees of freedom\n",
       "AIC: 38.952\n",
       "\n",
       "Number of Fisher Scoring iterations: 6\n"
      ]
     },
     "metadata": {},
     "output_type": "display_data"
    }
   ],
   "source": [
    "logit_model <- glm(HighFertility ~ Education + Examination + Catholic + Agriculture,\n",
    "                   data = swiss,\n",
    "                   family = binomial)\n",
    "summary(logit_model)"
   ]
  }
 ],
 "metadata": {
  "kernelspec": {
   "display_name": "R",
   "language": "R",
   "name": "ir"
  },
  "language_info": {
   "codemirror_mode": "r",
   "file_extension": ".r",
   "mimetype": "text/x-r-source",
   "name": "R",
   "pygments_lexer": "r",
   "version": "3.6.1"
  }
 },
 "nbformat": 4,
 "nbformat_minor": 5
}
