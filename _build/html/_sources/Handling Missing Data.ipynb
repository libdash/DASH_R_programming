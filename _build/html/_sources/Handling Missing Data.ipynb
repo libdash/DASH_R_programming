{
 "cells": [
  {
   "cell_type": "markdown",
   "id": "8b66d451",
   "metadata": {},
   "source": [
    "# Handling Missing Data"
   ]
  },
  {
   "cell_type": "markdown",
   "id": "f576a352",
   "metadata": {},
   "source": [
    "# Use na.omit() to remove rows with NA values\n",
    "\n",
    "Purpose:\n",
    "na.omit() is used to remove rows from a dataset that contain NA (missing) values.\n",
    "This function scans through the dataset and removes any row where at least one element is NA."
   ]
  },
  {
   "cell_type": "code",
   "execution_count": 5,
   "id": "68ef49b8",
   "metadata": {},
   "outputs": [
    {
     "name": "stdout",
     "output_type": "stream",
     "text": [
      "     Name Age Height\n",
      "1   Alice  25    165\n",
      "2     Bob  NA    175\n",
      "3 Charlie  30     NA\n",
      "4   David  22    180\n",
      "5     Eve  NA    160\n",
      "   Name Age Height\n",
      "1 Alice  25    165\n",
      "4 David  22    180\n"
     ]
    }
   ],
   "source": [
    "# Creating a sample dataset\n",
    "data <- data.frame(\n",
    "  Name = c(\"Alice\", \"Bob\", \"Charlie\", \"David\", \"Eve\"),\n",
    "  Age = c(25, NA, 30, 22, NA),\n",
    "  Height = c(165, 175, NA, 180, 160)\n",
    ")\n",
    "\n",
    "# Printing the sample dataset\n",
    "print(data)\n",
    "\n",
    "#Example for na.omit()\n",
    "clean_data <- na.omit(data)\n",
    "print(clean_data)"
   ]
  },
  {
   "cell_type": "markdown",
   "id": "4843d0ba",
   "metadata": {},
   "source": [
    "# Use is.na() to find NA values\n",
    "\n",
    "Purpose:\n",
    "\n",
    "is.na() is used to identify where NA values are located in your dataset.\n",
    "It returns a logical vector or matrix (depending on the structure of data) where TRUE indicates the presence of NA and FALSE indicates that the value is not missing."
   ]
  },
  {
   "cell_type": "code",
   "execution_count": 6,
   "id": "ae9a2049",
   "metadata": {},
   "outputs": [
    {
     "name": "stdout",
     "output_type": "stream",
     "text": [
      "      Name   Age Height\n",
      "[1,] FALSE FALSE  FALSE\n",
      "[2,] FALSE  TRUE  FALSE\n",
      "[3,] FALSE FALSE   TRUE\n",
      "[4,] FALSE FALSE  FALSE\n",
      "[5,] FALSE  TRUE  FALSE\n"
     ]
    }
   ],
   "source": [
    "#Example\n",
    "\n",
    "na_positions <- is.na(data)\n",
    "print(na_positions)\n"
   ]
  }
 ],
 "metadata": {
  "kernelspec": {
   "display_name": "R",
   "language": "R",
   "name": "ir"
  },
  "language_info": {
   "codemirror_mode": "r",
   "file_extension": ".r",
   "mimetype": "text/x-r-source",
   "name": "R",
   "pygments_lexer": "r",
   "version": "3.6.1"
  }
 },
 "nbformat": 4,
 "nbformat_minor": 5
}
