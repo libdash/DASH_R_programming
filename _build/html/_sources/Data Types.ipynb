{
 "cells": [
  {
   "cell_type": "markdown",
   "id": "82cabd0c",
   "metadata": {},
   "source": [
    "# Types of Data"
   ]
  },
  {
   "cell_type": "markdown",
   "id": "d1845b2a",
   "metadata": {},
   "source": [
    "Understanding the different types of data and how R handles them is crucial. It might be tempting to skip over these technical details, but doing so could lead to some frustrating issues later on. For instance, you may have already encountered a problem when trying (and failing) to add two character objects together using the + operator.\n",
    "\n",
    "R recognizes six basic data types: numeric, integer, logical, complex, character, and raw. You might notice that we've only mentioned five here—raw data isn’t covered because it's rarely useful (99.99% of the time). We also won’t dive into complex numbers, as they’re not typically necessary for most users."
   ]
  },
  {
   "cell_type": "markdown",
   "id": "4adc86b4",
   "metadata": {},
   "source": [
    "# Key data types in R"
   ]
  },
  {
   "cell_type": "markdown",
   "id": "132d7139",
   "metadata": {},
   "source": [
    "Numeric: These are numbers that can contain a decimal point. They can also be whole numbers, but R still treats them as numeric.\n",
    "\n",
    "Integer: These are whole numbers without a decimal point.\n",
    "\n",
    "Logical: Logical data can take on one of two values: TRUE or FALSE. There is also a special type of logical value called NA, which represents missing data.\n",
    "\n",
    "Character: Character data represent string values, which can be thought of as words or phrases. A special type of character data is a factor, which is essentially a string with additional attributes, such as levels or an order. We’ll cover factors in more detail later. \n",
    "\n",
    "Factor:Factors are used to represent categorical data and can be ordered or unordered. They are stored as integers with corresponding labels."
   ]
  }
 ],
 "metadata": {
  "kernelspec": {
   "display_name": "R",
   "language": "R",
   "name": "ir"
  },
  "language_info": {
   "codemirror_mode": "r",
   "file_extension": ".r",
   "mimetype": "text/x-r-source",
   "name": "R",
   "pygments_lexer": "r",
   "version": "3.6.1"
  }
 },
 "nbformat": 4,
 "nbformat_minor": 5
}
