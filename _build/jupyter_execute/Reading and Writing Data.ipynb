{
 "cells": [
  {
   "cell_type": "markdown",
   "id": "67e9b02b",
   "metadata": {},
   "source": [
    "# Reading and Writing Data"
   ]
  },
  {
   "cell_type": "markdown",
   "id": "e2bb369c",
   "metadata": {},
   "source": [
    "Reading Data from a CSV File\n",
    "\n",
    "data <- read.csv(\"path/to/your/file.csv\")\n",
    "print(data)\n",
    "\n",
    "Writing Data to a CSV File\n",
    "\n",
    "write.csv (df, \"path/to/your/output.csv\")"
   ]
  }
 ],
 "metadata": {
  "kernelspec": {
   "display_name": "R",
   "language": "R",
   "name": "ir"
  },
  "language_info": {
   "codemirror_mode": "r",
   "file_extension": ".r",
   "mimetype": "text/x-r-source",
   "name": "R",
   "pygments_lexer": "r",
   "version": "3.6.1"
  }
 },
 "nbformat": 4,
 "nbformat_minor": 5
}